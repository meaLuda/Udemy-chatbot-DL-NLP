{
 "cells": [
  {
   "cell_type": "markdown",
   "metadata": {},
   "source": [
    "# NLP: Udemy Tutoriol"
   ]
  },
  {
   "cell_type": "markdown",
   "metadata": {},
   "source": [
    "## ``Bag of Words``\n",
    "\n",
    "> ---\n",
    "\n",
    "// Limitations\n",
    "\n",
    "* Only gives simple responses of (YES|NO,NEGATIVE|POSITIVE)\n",
    "* Limited input and output size\n",
    "* Does not take into consideration the order of words\n",
    "> ---"
   ]
  },
  {
   "cell_type": "markdown",
   "metadata": {},
   "source": [
    "## ``Seq2Seq Architecture``\n",
    "![](images/seq2seq.png)\n",
    "\n",
    "> ---\n",
    "`Seq2Seq Training`\n",
    "![](images/seq2seq_training.png)\n",
    "\n",
    "> ---\n",
    "`Beam Search Decoding`\n",
    "`Greedy Decoding`\n",
    "`Attention Mechanism`"
   ]
  },
  {
   "cell_type": "markdown",
   "metadata": {},
   "source": [
    "> ---\n",
    "\n",
    "*\n",
    "*\n",
    "*\n",
    "> ---"
   ]
  },
  {
   "cell_type": "markdown",
   "metadata": {},
   "source": [
    "> ---\n",
    "\n",
    "*\n",
    "*\n",
    "*\n",
    "> ---"
   ]
  },
  {
   "cell_type": "markdown",
   "metadata": {},
   "source": [
    "> ---\n",
    "\n",
    "*\n",
    "*\n",
    "*\n",
    "> ---"
   ]
  },
  {
   "cell_type": "markdown",
   "metadata": {},
   "source": [
    "> ---\n",
    "\n",
    "*\n",
    "*\n",
    "*\n",
    "> ---"
   ]
  },
  {
   "cell_type": "markdown",
   "metadata": {},
   "source": []
  },
  {
   "cell_type": "markdown",
   "metadata": {},
   "source": []
  },
  {
   "cell_type": "markdown",
   "metadata": {},
   "source": []
  },
  {
   "cell_type": "code",
   "execution_count": null,
   "metadata": {},
   "outputs": [],
   "source": []
  }
 ],
 "metadata": {
  "interpreter": {
   "hash": "d1e6cad420e4398edbb7ba2374d625154d5929472e7c7049b665a8784c474571"
  },
  "kernelspec": {
   "display_name": "Python 3.7.11 ('ds_ml_env')",
   "language": "python",
   "name": "python3"
  },
  "language_info": {
   "name": "python",
   "version": "3.7.11"
  },
  "orig_nbformat": 4
 },
 "nbformat": 4,
 "nbformat_minor": 2
}
