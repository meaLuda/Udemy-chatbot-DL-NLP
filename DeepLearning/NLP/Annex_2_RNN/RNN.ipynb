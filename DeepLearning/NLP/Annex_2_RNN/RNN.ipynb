{
 "cells": [
  {
   "cell_type": "markdown",
   "metadata": {},
   "source": [
    "![RNN_DIAGRAM](RNN.png)"
   ]
  },
  {
   "cell_type": "markdown",
   "metadata": {},
   "source": [
    "# TODO:\n",
    "## Link Resources and papers to read and review in RNN\n",
    "\n",
    "\n",
    "<h3 style=\"color:lightblue\">Notes by: Munyala Eliud</h3>\n",
    "\n",
    "> ---\n",
    "``RNN`` <br>\n",
    "``Vanishing Gradient Problem`` \n",
    "\n",
    "* ``Understanding LSTM Networks: By: Cristopher Olar(2015)``\n",
    "* ``Understanding LSTM and its diagrams: By: Shi Yan(2016)``\n",
    "* ``The unnreasonable effectiveness of RNN: By: Andrej Karpathy``\n",
    "* ``Visualizing and UNderstanding RNN: By: Andrej Karpathy``\n",
    "\n",
    "> ---\n",
    "`LSTM`\n",
    "![](../images/LSTM.png)\n",
    "\n",
    "*\n",
    "*\n",
    "*\n",
    "> ---\n",
    "\n"
   ]
  },
  {
   "cell_type": "markdown",
   "metadata": {},
   "source": []
  },
  {
   "cell_type": "markdown",
   "metadata": {},
   "source": []
  },
  {
   "cell_type": "code",
   "execution_count": null,
   "metadata": {},
   "outputs": [],
   "source": []
  }
 ],
 "metadata": {
  "interpreter": {
   "hash": "d1e6cad420e4398edbb7ba2374d625154d5929472e7c7049b665a8784c474571"
  },
  "kernelspec": {
   "display_name": "Python 3.7.11 ('ds_ml_env')",
   "language": "python",
   "name": "python3"
  },
  "language_info": {
   "name": "python",
   "version": "3.7.11"
  },
  "orig_nbformat": 4
 },
 "nbformat": 4,
 "nbformat_minor": 2
}
